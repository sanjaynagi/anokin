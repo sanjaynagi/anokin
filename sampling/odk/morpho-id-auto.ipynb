{
 "cells": [
  {
   "cell_type": "markdown",
   "id": "b86f0544-a9e4-452a-8912-62da8b85e5fa",
   "metadata": {},
   "source": [
    "# Anokin results so far (updated daily)\n",
    "\n",
    "Here are some quick analyses to look at the data so far :)"
   ]
  },
  {
   "cell_type": "code",
   "execution_count": null,
   "id": "fc09c6ae-6c97-4e18-8b76-83fd6a69e519",
   "metadata": {
    "tags": [
     "remove-input"
    ]
   },
   "outputs": [],
   "source": [
    "import pandas as pd\n",
    "import plotly.express as px\n",
    "import plotly.graph_objects as go\n",
    "from plotly.subplots import make_subplots\n",
    "import numpy as np\n",
    "from datetime import datetime\n",
    "\n",
    "data_dir = 'docs/anokin-site/data'\n",
    "\n",
    "# Load the datasets\n",
    "morpho_id = pd.read_csv(f'{data_dir}/ckmr_morpho_id.csv')\n",
    "mosquito_data = pd.read_csv(f'{data_dir}/ckmr_morpho_id-mosquito_data.csv')\n",
    "\n",
    "# Convert date columns to datetime where appropriate\n",
    "morpho_id['SubmissionDate'] = pd.to_datetime(morpho_id['SubmissionDate'])\n",
    "morpho_id['initialise-date_collected'] = pd.to_datetime(morpho_id['initialise-date_collected'])\n",
    "\n",
    "# Join the datasets on KEY and PARENT_KEY\n",
    "df_morpho = pd.merge(\n",
    "    mosquito_data, \n",
    "    morpho_id, \n",
    "    left_on='PARENT_KEY', \n",
    "    right_on='KEY', \n",
    "    how='inner',\n",
    "    suffixes=('_mosquito', '_morph')\n",
    ")\n",
    "\n",
    "# drop columns\n",
    "df_morpho = df_morpho.drop(columns=['note', 'morph_id_other', \n",
    "      'PARENT_KEY', 'KEY_mosquito', 'initialise-collect_bool',\n",
    "       'end_note', 'meta-instanceID', 'KEY_morph', 'SubmitterID',\n",
    "       'SubmitterName', 'AttachmentsPresent', 'AttachmentsExpected', 'Status',\n",
    "       'ReviewState', 'DeviceID', 'Edits'])\n",
    "\n",
    "# remove training day data \n",
    "df_morpho['Date'] = df_morpho.SubmissionDate.dt.date.astype(str)\n",
    "df_morpho= df_morpho.query(\"Date != '2025-02-24'\")\n",
    "\n",
    "# join household datasets \n",
    "required_cols_uvlt = ['initialise-gps-Latitude', 'initialise-gps-Longitude', 'collection_end-barcode_outdoor', 'collection_end-barcode_indoor',  'initialise-collector']\n",
    "df_uvlt = pd.read_csv(f\"{data_dir}/ckmr_uvlt.csv\")\n",
    "df_uvlt = df_uvlt[required_cols_uvlt]\n",
    "df_uvlt.columns = ['latitude', 'longitude', 'outdoor-uvlt', 'indoor-uvlt', 'collector']\n",
    "required_cols_asp = ['initialise-gps-Latitude', 'initialise-gps-Longitude', 'collection_end-barcode', 'initialise-collector']\n",
    "df_asp = pd.read_csv(f\"{data_dir}/ckmr_sampling.csv\")\n",
    "df_asp = df_asp[required_cols_asp]\n",
    "df_asp.columns = ['latitude', 'longitude', 'barcode', 'collector']\n",
    "df_asp = df_asp.dropna()\n",
    "df_uvlt = df_uvlt.melt(id_vars=['latitude', 'longitude'], value_vars=['indoor-uvlt', 'outdoor-uvlt'], var_name='type', value_name='barcode')\n",
    "df_asp = df_asp.assign(type='prokopack')\n",
    "\n",
    "df_households = pd.concat([df_uvlt, df_asp])\n",
    "\n",
    "df_morpho = df_morpho.rename(columns={'initialise-barcode':'barcode'})\n",
    "df_morpho = df_morpho.merge(df_households, how='left')\n",
    "\n",
    "print(f\"Number of total Anophelines recorded: {len(df_morpho)}\")"
   ]
  },
  {
   "cell_type": "markdown",
   "id": "29be4c3d-5a4e-400a-ad85-1622607f3682",
   "metadata": {},
   "source": [
    "Are there any duplicates? where an eppendorf has been scanned twice?"
   ]
  },
  {
   "cell_type": "code",
   "execution_count": null,
   "id": "0d808c20-d320-4a51-a784-43b2a6e3cb3e",
   "metadata": {
    "tags": [
     "remove-input"
    ]
   },
   "outputs": [],
   "source": [
    "dups = df_morpho.sample_id.value_counts()[df_morpho.sample_id.value_counts() > 1].to_frame().reset_index().sample_id\n",
    "df_morpho.query(\"sample_id in @dups\")[['morph_id', 'Date', 'mosquito_sex', 'sample_id']]"
   ]
  },
  {
   "cell_type": "markdown",
   "id": "df75f8f0",
   "metadata": {},
   "source": [
    "How many total mosquitoes from each species?"
   ]
  },
  {
   "cell_type": "code",
   "execution_count": null,
   "id": "9731b74c-fdf0-4547-81ab-0461d350d0ac",
   "metadata": {
    "tags": [
     "remove-input"
    ]
   },
   "outputs": [],
   "source": [
    "dups = df_morpho.sample_id.value_counts()[df_morpho.sample_id.value_counts() > 1].to_frame().reset_index().sample_id\n",
    "df_morpho = df_morpho.query(\"sample_id not in @dups\")\n",
    "\n",
    "df_morpho.morph_id.value_counts().to_frame()"
   ]
  },
  {
   "cell_type": "markdown",
   "id": "033e5927-51d6-49c9-96cd-7e18552934f9",
   "metadata": {},
   "source": [
    "### Plotting species catch by date"
   ]
  },
  {
   "cell_type": "code",
   "execution_count": null,
   "id": "19c779cc-e31c-401e-9cc4-972a93c531f5",
   "metadata": {
    "tags": [
     "remove-input"
    ]
   },
   "outputs": [],
   "source": [
    "# Create species distribution figure using px\n",
    "df_morpho_day_counts = df_morpho.groupby(['Date', 'morph_id']).agg({'morph_id':'count'}).rename(columns={'morph_id':'count'}).reset_index()\n",
    "df_morpho_day_counts.columns= ['Date', 'Species', 'Count']\n",
    "\n",
    "fig_species = px.bar(\n",
    "    df_morpho_day_counts,\n",
    "    x='Species',\n",
    "    y='Count',\n",
    "    color='Date',\n",
    "    barmode='stack',\n",
    "    title='Distribution of Mosquito Species',\n",
    "    template='simple_white'\n",
    ")\n",
    "\n",
    "fig_species.show()"
   ]
  },
  {
   "cell_type": "markdown",
   "id": "a23ba588-2539-4e9d-a7a9-b43b1071fe6f",
   "metadata": {},
   "source": [
    "### Trap comparison\n",
    "\n",
    "Lets plot the per-day (or per-night!) catches per trap."
   ]
  },
  {
   "cell_type": "code",
   "execution_count": null,
   "id": "c5a11f1e-6372-4f74-919c-02713350bb70",
   "metadata": {
    "tags": [
     "remove-input"
    ]
   },
   "outputs": [],
   "source": [
    "trap_counts = df_households.groupby('type').size()\n",
    "samples_per_trap_effort = df_morpho.groupby(['type', 'morph_id']).size() /  trap_counts\n",
    "samples_per_trap_effort = samples_per_trap_effort.to_frame('mean_catch_per_trap').reset_index()\n",
    "\n",
    "fig_traps = px.bar(\n",
    "    samples_per_trap_effort,\n",
    "    x='type',\n",
    "    y='mean_catch_per_trap',\n",
    "    color='morph_id',\n",
    "    barmode='stack',\n",
    "    title='Mean catch per single trapping effort',\n",
    "    template='simple_white'\n",
    ")\n",
    "\n",
    "fig_traps.show()"
   ]
  },
  {
   "cell_type": "markdown",
   "id": "c0231710",
   "metadata": {},
   "source": [
    "### Males vs Females\n",
    "\n",
    "Lets plot the sex ratio we are finding in funestus."
   ]
  },
  {
   "cell_type": "code",
   "execution_count": null,
   "id": "e9aec409",
   "metadata": {
    "tags": [
     "remove-input"
    ]
   },
   "outputs": [],
   "source": [
    "# Create sex distribution figure for Anopheles funestus using px\n",
    "funestus_data = df_morpho[df_morpho['morph_id'] == 'anopheles_funestus']\n",
    "sex_count = funestus_data['mosquito_sex'].value_counts().reset_index()\n",
    "sex_count.columns = ['Sex', 'Count']\n",
    "\n",
    "fig_sex = px.pie(\n",
    "    sex_count,\n",
    "    values='Count',\n",
    "    names='Sex',\n",
    "    title='Sex Distribution of Anopheles funestus',\n",
    "    color='Sex',\n",
    "    color_discrete_map={'female': 'pink', 'male': 'blue'},\n",
    "    template='simple_white'\n",
    ")\n",
    "\n",
    "fig_sex.show()"
   ]
  },
  {
   "cell_type": "markdown",
   "id": "3dd14154",
   "metadata": {},
   "source": [
    "And show some summary statistics:"
   ]
  },
  {
   "cell_type": "code",
   "execution_count": null,
   "id": "10ad7f1e",
   "metadata": {
    "tags": [
     "remove-input"
    ]
   },
   "outputs": [],
   "source": [
    "\n",
    "# Statistical summary of the data\n",
    "summary_stats = {\n",
    "    'Total mosquitoes': len(df_morpho),\n",
    "    'Number of households': df_morpho['initialise-household-id'].nunique(),\n",
    "    'Number of collectors': df_morpho['initialise-collector'].nunique(),\n",
    "    'Collection date range': f\"{df_morpho['initialise-date_collected'].min().date()} to {df_morpho['initialise-date_collected'].max().date()}\",\n",
    "    'Species distribution': dict(df_morpho['morph_id'].value_counts()),\n",
    "    'Overall sex distribution': dict(df_morpho['mosquito_sex'].value_counts()),\n",
    "    'Anopheles funestus sex distribution': dict(funestus_data['mosquito_sex'].value_counts())\n",
    "}\n",
    "\n",
    "print(\"\\nSummary Statistics:\\n\")\n",
    "for key, value in summary_stats.items():\n",
    "    print(f\"{key}: {value}\")"
   ]
  },
  {
   "cell_type": "markdown",
   "id": "5514d0b2",
   "metadata": {},
   "source": [
    "### Plot counts on a map\n",
    "\n",
    "Lets plot these data on a map to look at where we are sampling and where we are getting high numbers."
   ]
  },
  {
   "cell_type": "code",
   "execution_count": null,
   "id": "6acd4f9c-bac7-4006-83d6-c40719acab5e",
   "metadata": {
    "tags": [
     "remove-input"
    ]
   },
   "outputs": [],
   "source": [
    "df_counts = df_morpho.groupby(['latitude', 'longitude', 'type', 'Date']).agg({'morph_id':'count'}).reset_index()\n",
    "\n",
    "fig = px.scatter_map(df_counts, lat=\"latitude\", lon=\"longitude\", color=\"type\", size='morph_id', hover_data='Date', zoom=13, height=550)\n",
    "fig"
   ]
  },
  {
   "cell_type": "markdown",
   "id": "4b3139d9",
   "metadata": {},
   "source": [
    "With satellite background:"
   ]
  },
  {
   "cell_type": "code",
   "execution_count": null,
   "id": "3f1695b6",
   "metadata": {
    "tags": [
     "remove-input"
    ]
   },
   "outputs": [],
   "source": [
    "\n",
    "fig = px.scatter_map(df_counts, lat=\"latitude\", lon=\"longitude\", color=\"type\", size='morph_id', hover_data='Date', zoom=13, height=550, map_style='satellite')\n",
    "fig"
   ]
  },
  {
   "cell_type": "markdown",
   "id": "bf9fc406",
   "metadata": {},
   "source": [
    "### Great work team!👏 👏 👏"
   ]
  },
  {
   "cell_type": "code",
   "execution_count": null,
   "id": "93ea16da",
   "metadata": {},
   "outputs": [],
   "source": []
  }
 ],
 "metadata": {
  "celltoolbar": "Tags",
  "kernelspec": {
   "display_name": "base",
   "language": "python",
   "name": "python3"
  },
  "language_info": {
   "codemirror_mode": {
    "name": "ipython",
    "version": 3
   },
   "file_extension": ".py",
   "mimetype": "text/x-python",
   "name": "python",
   "nbconvert_exporter": "python",
   "pygments_lexer": "ipython3",
   "version": "3.12.8"
  }
 },
 "nbformat": 4,
 "nbformat_minor": 5
}
