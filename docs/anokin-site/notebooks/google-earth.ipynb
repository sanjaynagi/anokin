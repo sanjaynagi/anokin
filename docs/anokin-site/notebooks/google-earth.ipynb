{
 "cells": [
  {
   "attachments": {},
   "cell_type": "markdown",
   "id": "2122a2e4",
   "metadata": {},
   "source": [
    "# Google Earth Projects\n",
    "\n",
    "In order to identify sampling coordinates, we can use Google Earth on the tablets, and load the following projects by clicking the link.\n",
    "\n",
    "Sampling coordinates are coloured by team. \n",
    "\n",
    "Team 1: Green   \n",
    "Team 2: Red  \n",
    "Team 3: Yellow  \n",
    "\n",
    "#### Day 1  \n",
    "https://earth.google.com/earth/d/1vUAb-jSH1bEDQZP6E96w7vogeR5l_aU8?usp=sharing \n",
    "\n",
    "#### Day 2 \n",
    "\n",
    "https://earth.google.com/earth/d/1za1MDgfTh6YW0eYIe0syYIluaQLgRpAG?usp=sharing\n",
    "\n",
    "#### Day 3 \n",
    "\n",
    "https://earth.google.com/earth/d/1Gj4VfRVyaJQTqllYDk1vJAOzXnDrDGLK?usp=sharing\n",
    "\n",
    "#### Day 4 \n",
    "\n",
    "https://earth.google.com/earth/d/1y_VqS6y1RjWtVzbebculFkHGj0OtZlpx?usp=sharing\n",
    "\n",
    "Further days will be added later on."
   ]
  }
 ],
 "metadata": {
  "kernelspec": {
   "display_name": "Python 3 (ipykernel)",
   "language": "python",
   "name": "python3"
  },
  "language_info": {
   "codemirror_mode": {
    "name": "ipython",
    "version": 3
   },
   "file_extension": ".py",
   "mimetype": "text/x-python",
   "name": "python",
   "nbconvert_exporter": "python",
   "pygments_lexer": "ipython3",
   "version": "3.7.13"
  }
 },
 "nbformat": 4,
 "nbformat_minor": 5
}
