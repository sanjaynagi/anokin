{
 "cells": [
  {
   "attachments": {},
   "cell_type": "markdown",
   "id": "f0ec785c",
   "metadata": {},
   "source": [
    "# Sampling\n",
    "\n",
    "This protocol describes the sampling procedures for collecting *Anopheles funestus* mosquitoes at Lake Kanyaboli, Kenya, using Prokopack aspirators. For detailed information on Prokopack aspirator use, please refer to the [PacMOSSI Standard Operating Procedure](https://pacmossi.org/carbon/assets/2022/05/PacMOSSI-SOP_Prokopack-1.pdf).\n",
    "\n",
    "## Study Area and Design\n",
    "\n",
    "- Study site: Lake Kanyaboli, Siaya County, western Kenya\n",
    "- Sampling area: ~3km × 3km wedge-shaped area extending from northeastern corner of lake\n",
    "- Area divided into four alternating bands (quadrants)\n",
    "  \n",
    "- Collection times: 06:00 - 10:00 daily\n",
    "- Duration per house: ~25 minutes\n",
    "\n",
    "[Image of the study area](https://github.com/sanjaynagi/anokin/blob/main/docs/anokin-site/assets/images/study-area.png)\n",
    "\n",
    "### Collection Equipment\n",
    "- Prokopack aspirators (1 per team), 12v battery, battery charger, bag, \n",
    "- Prokopack Collection cups\n",
    "- Barcoded collection bags (one per household)\n",
    "- Mouth aspirator, paper cups, netting and elastic bands\n",
    "- Tablets with ODK software installed\n",
    "\n",
    "\n",
    "--- \n",
    "\n",
    "## Household Selection Procedure\n",
    "\n",
    "  1. Identify GPS coordinate (use Google Earth project)\n",
    "  2. Locate four nearest compounds to the coordinate\n",
    "  3. Focus on the primary sleeping structure in each compound. \n",
    "  4. Skip minor structures. \n",
    "  5. Visit each house with a community health worker and identify the household head.\n",
    "  6. Explain the study aims and procedures to the household head. Answer any questions\n",
    "  7. If consent is given, continue with ODK form, recording household head name and GPS coordinates.\n",
    "  8. Begin sampling when notified by the ODK form. \n",
    "\n",
    "\n",
    "---\n",
    "\n",
    "\n",
    "## Collection Protocol\n",
    "\n",
    "### Before Starting\n",
    "1. Organize and label collection cups for each sampling location\n",
    "2. Assemble Prokopack aspirator following SOP guidelines\n",
    "3. Test aspirator function\n",
    "4. Prepare data collection forms/tablets\n",
    "\n",
    "### Indoor Collection Process\n",
    "1. **Room Preparation**\n",
    "   - Begin at back rooms, working towards the  front of the house. \n",
    "   - For multi-story houses, start upstairs and work down\n",
    "   - Follow left-to-right sequence in each room\n",
    "\n",
    "2. **Collection Method** (15 minutes per house)\n",
    "   - Hold aspirator within 15cm of surfaces\n",
    "   - Move at approximately 1 meter per second\n",
    "   - Follow systematic pattern:\n",
    "     - Sample walls vertically, moving clockwise\n",
    "     - Sample ceilings horizontally  \n",
    "     - Check furniture, especially dark areas  \n",
    "     - Focus on closets, wardrobes, hanging clothes\n",
    "     - Collect any flying mosquitoes observed  \n",
    "\n",
    "3. **Sample Handling**\n",
    "   - Place collection cup lid before turning off aspirator.\n",
    "   - If necessary, use a mouth aspirator to transfer mosquitoes from the collection cup to a paper cup.\n",
    "   - Place the cup into the barcoded plastic bag.\n",
    "   - Scan the barcode with the tablet (ODK form)\n",
    "   - Label the bag with the unique household-ID returned by the sampling ODK form. \n",
    "   - Seal the bag for transport to the Lwak lab for further processing."
   ]
  }
 ],
 "metadata": {
  "kernelspec": {
   "display_name": "Python 3.6.9 64-bit",
   "language": "python",
   "name": "python3"
  },
  "language_info": {
   "codemirror_mode": {
    "name": "ipython",
    "version": 3
   },
   "file_extension": ".py",
   "mimetype": "text/x-python",
   "name": "python",
   "nbconvert_exporter": "python",
   "pygments_lexer": "ipython3",
   "version": "3.6.9"
  },
  "vscode": {
   "interpreter": {
    "hash": "31f2aee4e71d21fbe5cf8b01ff0e069b9275f58929596ceb00d14d90e3e16cd6"
   }
  }
 },
 "nbformat": 4,
 "nbformat_minor": 5
}
