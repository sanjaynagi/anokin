{
 "cells": [
  {
   "attachments": {},
   "cell_type": "markdown",
   "id": "2122a2e4",
   "metadata": {},
   "source": [
    "# ODK forms\n",
    "\n",
    "For the CKMR project, we use two separate ODK forms:\n",
    "\n",
    "## Indoor sampling form\n",
    "\n",
    "This form is used to record metadata about the household and the sampling location.\n",
    "\n",
    "## Morphological ID and mosquito storage ODK form \n",
    "\n",
    "This form is used to record the morphological ID of the mosquito and its storage. Each household collection can be processed together in a batch, though this means care must be taken not discard the form before the entire batch is processed.\n",
    "\n",
    "#### QR code for ODK form access\n",
    "\n",
    "Tablets should be preloaded with the correct form and user credentials, but in case they arent, scan this QR code with ODK Collect to access the forms. \n",
    "\n",
    "![odk-qr](https://github.com/sanjaynagi/anokin/blob/main/docs/anokin-site/images/odk-qr.png))\n",
    "\n",
    "---\n",
    "\n",
    "If you have feedback or suggestions to improve the forms, please [get in touch](mailto:sanjay.nagi@lstmed.ac.uk). "
   ]
  }
 ],
 "metadata": {
  "kernelspec": {
   "display_name": "Python 3 (ipykernel)",
   "language": "python",
   "name": "python3"
  },
  "language_info": {
   "codemirror_mode": {
    "name": "ipython",
    "version": 3
   },
   "file_extension": ".py",
   "mimetype": "text/x-python",
   "name": "python",
   "nbconvert_exporter": "python",
   "pygments_lexer": "ipython3",
   "version": "3.7.13"
  }
 },
 "nbformat": 4,
 "nbformat_minor": 5
}
