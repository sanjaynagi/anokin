{
 "cells": [
  {
   "attachments": {},
   "cell_type": "markdown",
   "id": "2122a2e4",
   "metadata": {},
   "source": [
    "# ODK forms\n",
    "\n",
    "For the CKMR project, we use two separate ODK forms:\n",
    "\n",
    "1. The [indoor sampling with prokopack form]()\n",
    "2. The [Morphological ID and mosquito storage form]() \n",
    "\n",
    "## Indoor sampling form\n",
    "\n",
    "This form is used to record metadata about the household and the sampling location.\n",
    "\n",
    "## Morphological ID and mosquito storage ODK form \n",
    "\n",
    "This form is used to record the morphological ID of the mosquito and its storage. Each household collection is expected to be processed together in a batch, though this means care must be taken not discard the form before the entire batch is processed.\n",
    "\n",
    "---\n",
    "\n",
    "If you have feedback or suggestions to improve the forms, please [get in touch](mailto:sanjay.nagi@lstmed.ac.uk). "
   ]
  }
 ],
 "metadata": {
  "kernelspec": {
   "display_name": "Python 3 (ipykernel)",
   "language": "python",
   "name": "python3"
  },
  "language_info": {
   "codemirror_mode": {
    "name": "ipython",
    "version": 3
   },
   "file_extension": ".py",
   "mimetype": "text/x-python",
   "name": "python",
   "nbconvert_exporter": "python",
   "pygments_lexer": "ipython3",
   "version": "3.7.13"
  }
 },
 "nbformat": 4,
 "nbformat_minor": 5
}
