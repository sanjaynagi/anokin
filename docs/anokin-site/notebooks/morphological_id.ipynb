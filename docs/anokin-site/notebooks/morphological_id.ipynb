{
 "cells": [
  {
   "attachments": {},
   "cell_type": "markdown",
   "id": "2122a2e4",
   "metadata": {},
   "source": [
    "# Morphological Identification of *Anopheles* Mosquitoes\n",
    "\n",
    "## Introduction\n",
    "For the AnoKin project, accurate species identification is crucial. We use the \"Key to the females of Afrotropical *Anopheles* mosquitoes\" by Coetzee (2020) - accessible [here](https://malariajournal.biomedcentral.com/articles/10.1186/s12936-020-3144-9).\n",
    "\n",
    "## Important Notes for Lake Kanyaboli Collections\n",
    "\n",
    "### Target Species\n",
    "Our primary targets are *Anopheles funestus*, which belongs to the *funestus* group. Note that morphological identification cannot distinguish between species within this group - molecular methods will be required for final confirmation.\n",
    "\n",
    "### Key Features to Examine\n",
    "When identifying specimens, pay particular attention to:\n",
    "1. Wing spot patterns (particularly costa and vein 1)\n",
    "2. Maxillary palp banding patterns\n",
    "3. Hindtarsomere coloration\n",
    "4. Abdominal scaling patterns\n",
    "\n",
    "### Using the Key for *An. funestus* Identification\n",
    "- Start with couplet 1 in the main key\n",
    "- The *funestus* group appears in Section XI\n",
    "- Key characteristics include:\n",
    "  - Upper branch of wing vein 5 with 1 pale spot\n",
    "  - No pale interruptions on 3rd main dark area of vein 1\n",
    "  - Maxillary palpus with 3 pale bands\n",
    "  - Legs not speckled\n",
    "  - Hindtarsomeres 4 and 5 not entirely pale\n",
    "\n",
    "## Specimen Handling\n",
    "1. Examine specimens under a dissecting microscope\n",
    "2. Ensure proper lighting to see wing patterns clearly\n",
    "3. Store identified specimens individually in labeled 1.5ml Eppendorf tubes with silica gel\n",
    "4. Record identification details in ODK form\n",
    "\n",
    "## Quality Control\n",
    "- If uncertain about identification, consult a senior entomologist\n",
    "- Take photos of challenging specimens\n",
    "- Keep problematic specimens separate for molecular confirmation\n",
    "- Remember that within the *funestus* group, morphological ID alone is not definitive\n",
    "\n",
    "## Resources Required\n",
    "- Dissecting microscope with good lighting\n",
    "- Fine forceps for handling specimens\n",
    "- Printed copy of the Coetzee (2020) key\n",
    "- Reference specimens if available\n",
    "\n",
    "## Additional Resources\n",
    "- PDF copy of the key stored in project repository\n",
    "- Reference images of key characteristics\n",
    "- Contact information for expert consultation\n",
    "\n",
    "## Important Notes\n",
    "1. Some specimens may be damaged during collection, making identification challenging\n",
    "2. Wing scales can be lost during collection - handle specimens carefully\n",
    "3. Lighting conditions can affect the appearance of pale/dark markings\n",
    "4. When in doubt, record uncertainties in the notes section of the ODK form"
   ]
  }
 ],
 "metadata": {
  "kernelspec": {
   "display_name": "Python 3 (ipykernel)",
   "language": "python",
   "name": "python3"
  },
  "language_info": {
   "codemirror_mode": {
    "name": "ipython",
    "version": 3
   },
   "file_extension": ".py",
   "mimetype": "text/x-python",
   "name": "python",
   "nbconvert_exporter": "python",
   "pygments_lexer": "ipython3",
   "version": "3.7.13"
  }
 },
 "nbformat": 4,
 "nbformat_minor": 5
}
