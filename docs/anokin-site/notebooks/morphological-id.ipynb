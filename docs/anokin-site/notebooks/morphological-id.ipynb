{
 "cells": [
  {
   "attachments": {},
   "cell_type": "markdown",
   "id": "2122a2e4",
   "metadata": {},
   "source": [
    "# Morphological ID\n",
    "\n",
    "For the Close-kin Mark-Recapture project, accurate species identification is crucial. We use the \"Key to the females of Afrotropical *Anopheles* mosquitoes\" by Coetzee (2020) - accessible [here (html)\n",
    "](https://malariajournal.biomedcentral.com/articles/10.1186/s12936-020-3144-9)  or [pdf](https://github.com/sanjaynagi/anokin/raw/main/docs/anokin-site/.Coetzee%202020%20-%20Malar.%20J_.pdf).\n",
    "\n",
    "### Target Species\n",
    "Our primary targets are *Anopheles funestus* and *Anopheles gambiae sl*, which should be the predominant Anopheles species in the study area. Our study will focus on *An. funestus*, however, future work may be conducted on the *An. gambiae* specimens. Any Culex, Aedes, or other non-Anophelines mosquitoes can be immediately discarded. \n",
    "\n",
    "## Specimen handling and storage\n",
    "1. Each team member should process and entire household collection together, keeping everything in one place.\n",
    "2. Store identified specimens individually in barcoded 1.5ml Eppendorf tubes with silica gel and cotton wool\n",
    "3. Record identification details in [ODK form](https://odkcentral.lstmed.ac.uk/-/single/JKQaAg5e5rJl3lIDoUg8BdrQelnjWsa?st=BoitOmlceTJvF161b0pGM3E2esK1xJpE8TkMTwRwV7GvaE11CpXUfUGb$JtLU7HF)"
   ]
  }
 ],
 "metadata": {
  "kernelspec": {
   "display_name": "Python 3 (ipykernel)",
   "language": "python",
   "name": "python3"
  },
  "language_info": {
   "codemirror_mode": {
    "name": "ipython",
    "version": 3
   },
   "file_extension": ".py",
   "mimetype": "text/x-python",
   "name": "python",
   "nbconvert_exporter": "python",
   "pygments_lexer": "ipython3",
   "version": "3.7.13"
  }
 },
 "nbformat": 4,
 "nbformat_minor": 5
}
