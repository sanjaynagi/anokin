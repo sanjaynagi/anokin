{
 "cells": [
  {
   "attachments": {},
   "cell_type": "markdown",
   "id": "55847f27",
   "metadata": {},
   "source": [
    "# Close-kin Mark-Recapture?\n",
    "\n",
    "## The Challenge: Understanding Mosquito Movement\n",
    "\n",
    "One of the most significant gaps in our understanding of malaria vectors is surprisingly basic: we don't understand well how\n",
    " far the malaria mosquito can fly. This seemingly simple question has major implications for malaria control. Current estimates vary:\n",
    "\n",
    "- Traditional studies suggest mosquitoes fly no more than 5km per generation\n",
    "- Recent research in the [Sahel](https://doi.org/10.1038/s41586-019-1622-4) and western Kenya indicates mosquitoes may travel much further, carried by wind currents over extremely large distances\n",
    "\n",
    "### Why This Matters\n",
    "Understanding mosquito dispersal is crucial for several reasons:\n",
    "\n",
    "1. **Vector Control Trials**: To effectively evaluate new control tools like spatial repellents and ATSBs, we need to design robust randomized controlled trials (RCTs). The distance mosquitoes can travel affects how we structure these trials.\n",
    "\n",
    "2. **Gene Drive Implementation**: Gene drive technology shows promise for malaria control through either:\n",
    "   - [Population suppression](https://doi.org/10.1038/nbt.4245)\n",
    "   - Making vectors refractory to malaria transmission\n",
    "   \n",
    "   Large consortiums like Target Malaria and Zero Transmission are planning field trials in the near future. To model gene drive spread accurately, we must understand mosquito movement patterns.\n",
    "\n",
    "3. **Insecticide Resistance**: The spread of insecticide resistance threatens current control methods, which are heavily reliant on insecticide use. Understanding how mosquitoes move helps us track and predict resistance spread.\n",
    "\n",
    "## Close-Kin Mark-Recapture (CKMR)\n",
    "\n",
    "### What is CKMR?\n",
    "Close-kin mark-recapture is an advanced genomic technique that allows us estimate demographic parameters, such as dispersal rates and population size. It was originally developed for fisheries [(Bravington et al.  2016)](https://doi.org/10.1214/16-STS552). Instead of marking and releasing individual organisms, we:\n",
    "\n",
    "1. Sample mosquitoes across a defined area\n",
    "2. Sequence their genomes\n",
    "3. Identify related individuals through their DNA\n",
    "4. Use the geographic distance between related mosquitoes to estimate dispersal patterns\n",
    "\n",
    "### Why CKMR?\n",
    "CKMR offers several advantages over traditional methods:\n",
    "\n",
    "- **Non-invasive**: No need to mark mosquitoes, which can affect their behavior\n",
    "- **Comprehensive**: Can detect both short and long-distance movement\n",
    "- **Additional insights**: Beyond dispersal, CKMR can reveal:\n",
    "  - Census population size\n",
    "  - Daily survivorship\n",
    "  - Population dynamics\n",
    "\n",
    "\n",
    "Whilst genomics is revolutionising vector surveillance, most advances have focused on monitoring insecticide resistance. AnoKin utilises genomics in a novel, innovative way to estimate dispersal rates.\n",
    "\n",
    "## Project Implementation\n",
    "\n",
    "### Study Site\n",
    "We are conducting this work at Lake Kanyaboli, western Kenya, chosen for:\n",
    "- High malaria transmission\n",
    "- Stable *An. funestus* habitat\n",
    "- Existing research infrastructure\n",
    "- Well-characterized wind patterns\n",
    "\n",
    "### Expected Outcomes\n",
    "In conducting this project, we hope to provide:\n",
    "1. Quantitative estimates of *An. funestus* dispersal distances and rates\n",
    "2. Open-source software for analyzing close-kin genomic data\n",
    "3. Improved design parameters for future intervention trials\n",
    "\n",
    "## Looking Forward\n",
    "\n",
    "The results from AnoKin will directly inform:\n",
    "- Design of vector control trials\n",
    "- Implementation of gene drive strategies\n",
    "- Management of insecticide resistance\n",
    "\n",
    "By filling this critical knowledge gap, we can better target our interventions and work more effectively toward malaria elimination.\n"
   ]
  }
 ],
 "metadata": {
  "kernelspec": {
   "display_name": "Python 3.6.9 64-bit",
   "language": "python",
   "name": "python3"
  },
  "language_info": {
   "codemirror_mode": {
    "name": "ipython",
    "version": 3
   },
   "file_extension": ".py",
   "mimetype": "text/x-python",
   "name": "python",
   "nbconvert_exporter": "python",
   "pygments_lexer": "ipython3",
   "version": "3.6.9 (default, Nov 25 2022, 14:10:45) \n[GCC 8.4.0]"
  },
  "vscode": {
   "interpreter": {
    "hash": "31f2aee4e71d21fbe5cf8b01ff0e069b9275f58929596ceb00d14d90e3e16cd6"
   }
  }
 },
 "nbformat": 4,
 "nbformat_minor": 5
}
